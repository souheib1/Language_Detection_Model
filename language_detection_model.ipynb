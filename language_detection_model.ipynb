{
 "cells": [
  {
   "cell_type": "code",
   "execution_count": 20,
   "id": "1f0d8c10",
   "metadata": {},
   "outputs": [
    {
     "data": {
      "text/html": [
       "<div>\n",
       "<style scoped>\n",
       "    .dataframe tbody tr th:only-of-type {\n",
       "        vertical-align: middle;\n",
       "    }\n",
       "\n",
       "    .dataframe tbody tr th {\n",
       "        vertical-align: top;\n",
       "    }\n",
       "\n",
       "    .dataframe thead th {\n",
       "        text-align: right;\n",
       "    }\n",
       "</style>\n",
       "<table border=\"1\" class=\"dataframe\">\n",
       "  <thead>\n",
       "    <tr style=\"text-align: right;\">\n",
       "      <th></th>\n",
       "      <th>Text</th>\n",
       "      <th>Language</th>\n",
       "    </tr>\n",
       "  </thead>\n",
       "  <tbody>\n",
       "    <tr>\n",
       "      <th>0</th>\n",
       "      <td>Nature, in the broadest sense, is the natural...</td>\n",
       "      <td>English</td>\n",
       "    </tr>\n",
       "    <tr>\n",
       "      <th>1</th>\n",
       "      <td>\"Nature\" can refer to the phenomena of the phy...</td>\n",
       "      <td>English</td>\n",
       "    </tr>\n",
       "    <tr>\n",
       "      <th>2</th>\n",
       "      <td>The study of nature is a large, if not the onl...</td>\n",
       "      <td>English</td>\n",
       "    </tr>\n",
       "    <tr>\n",
       "      <th>3</th>\n",
       "      <td>Although humans are part of nature, human acti...</td>\n",
       "      <td>English</td>\n",
       "    </tr>\n",
       "    <tr>\n",
       "      <th>4</th>\n",
       "      <td>[1] The word nature is borrowed from the Old F...</td>\n",
       "      <td>English</td>\n",
       "    </tr>\n",
       "    <tr>\n",
       "      <th>5</th>\n",
       "      <td>[2] In ancient philosophy, natura is mostly us...</td>\n",
       "      <td>English</td>\n",
       "    </tr>\n",
       "    <tr>\n",
       "      <th>6</th>\n",
       "      <td>[3][4] \\nThe concept of nature as a whole, the...</td>\n",
       "      <td>English</td>\n",
       "    </tr>\n",
       "    <tr>\n",
       "      <th>7</th>\n",
       "      <td>During the advent of modern scientific method ...</td>\n",
       "      <td>English</td>\n",
       "    </tr>\n",
       "    <tr>\n",
       "      <th>8</th>\n",
       "      <td>[5][6] With the Industrial revolution, nature ...</td>\n",
       "      <td>English</td>\n",
       "    </tr>\n",
       "    <tr>\n",
       "      <th>9</th>\n",
       "      <td>However, a vitalist vision of nature, closer t...</td>\n",
       "      <td>English</td>\n",
       "    </tr>\n",
       "  </tbody>\n",
       "</table>\n",
       "</div>"
      ],
      "text/plain": [
       "                                                Text Language\n",
       "0   Nature, in the broadest sense, is the natural...  English\n",
       "1  \"Nature\" can refer to the phenomena of the phy...  English\n",
       "2  The study of nature is a large, if not the onl...  English\n",
       "3  Although humans are part of nature, human acti...  English\n",
       "4  [1] The word nature is borrowed from the Old F...  English\n",
       "5  [2] In ancient philosophy, natura is mostly us...  English\n",
       "6  [3][4] \\nThe concept of nature as a whole, the...  English\n",
       "7  During the advent of modern scientific method ...  English\n",
       "8  [5][6] With the Industrial revolution, nature ...  English\n",
       "9  However, a vitalist vision of nature, closer t...  English"
      ]
     },
     "execution_count": 20,
     "metadata": {},
     "output_type": "execute_result"
    }
   ],
   "source": [
    "import pandas as pd\n",
    "data = pd.read_csv(\"files/Language_Detection.csv\")\n",
    "data.head(10)\n"
   ]
  },
  {
   "cell_type": "code",
   "execution_count": 21,
   "id": "b2bfa702",
   "metadata": {},
   "outputs": [
    {
     "data": {
      "text/plain": [
       "English       13.398472\n",
       "French         9.809422\n",
       "Spanish        7.922995\n",
       "Portugeese     7.149076\n",
       "Italian        6.752443\n",
       "Russian        6.694399\n",
       "Sweedish       6.539615\n",
       "Malayalam      5.746348\n",
       "Dutch          5.281997\n",
       "Arabic         5.185257\n",
       "Turkish        4.585470\n",
       "German         4.546774\n",
       "Tamil          4.537100\n",
       "Danish         4.140466\n",
       "Kannada        3.569701\n",
       "Greek          3.531005\n",
       "Hindi          0.609461\n",
       "Name: Language, dtype: float64"
      ]
     },
     "execution_count": 21,
     "metadata": {},
     "output_type": "execute_result"
    }
   ],
   "source": [
    "p=data[\"Language\"].value_counts() \n",
    "p=p/len(data)*100\n",
    "p"
   ]
  },
  {
   "cell_type": "code",
   "execution_count": 22,
   "id": "6fb95ce6",
   "metadata": {},
   "outputs": [],
   "source": [
    "X = data[\"Text\"]\n",
    "y = data[\"Language\"]"
   ]
  },
  {
   "cell_type": "code",
   "execution_count": 23,
   "id": "8f0d96fe",
   "metadata": {},
   "outputs": [
    {
     "data": {
      "text/plain": [
       "{0, 1, 2, 3, 4, 5, 6, 7, 8, 9, 10, 11, 12, 13, 14, 15, 16}"
      ]
     },
     "execution_count": 23,
     "metadata": {},
     "output_type": "execute_result"
    }
   ],
   "source": [
    "X = data[\"Text\"]\n",
    "y = data[\"Language\"]\n",
    "from sklearn.preprocessing import LabelEncoder\n",
    "le = LabelEncoder()\n",
    "y = le.fit_transform(y)\n",
    "set(y) #permet d'afficher les valeurs possibles de y sans redondance \n"
   ]
  },
  {
   "cell_type": "code",
   "execution_count": 24,
   "id": "29e4bbad",
   "metadata": {},
   "outputs": [
    {
     "name": "stdout",
     "output_type": "stream",
     "text": [
      " Nature, in the broadest sense, is the natural, physical, material world or universe.\n",
      " nature  i  the broadest se se  is the  atural  physical  material world or u iverse.\n",
      "-----------\n",
      "When trained on man-made data, machine learning is likely to pick up the same constitutional and unconscious biases already present in society.\n",
      "whe  trai ed o  ma -made data  machi e lear i g is likely to pick up the same co stitutio al a d u co scious biases already prese t i  society.\n",
      "-----------\n",
      "वाक्यांश संख्या दो, जब आपने किसी को कुछ समय के लिए नहीं देखा है, तो आप उसे बताएंगे कि कोई समय नहीं है, तो इसका मतलब है कि आपने इस व्यक्ति को शायद हफ्तों या महीनों में नहीं देखा है जब तक कि वाक्यांश संख्या नहीं देखी जाती है। तीन अगर आप पूछना चाहते हैं कि आप क्या कर रहे हैं। आप पूछते हैं कि आपके जीवन में क्या चल रहा था?\n",
      "वाक्यांश संख्या दो  जब आपने किसी को कुछ समय के लिए नहीं देखा है  तो आप उसे बताएंगे कि कोई समय नहीं है  तो इसका मतलब है कि आपने इस व्यक्ति को शायद हफ्तों या महीनों में नहीं देखा है जब तक कि वाक्यांश संख्या नहीं देखी जाती है। तीन अगर आप पूछना चाहते हैं कि आप क्या कर रहे हैं। आप पूछते हैं कि आपके जीवन में क्या चल रहा था \n",
      "-----------\n",
      "Meu Deus.\n",
      "meu deus.\n",
      "-----------\n",
      "merci d'avance si quelqu'un a fait une erreur, et il en est vraiment énervé.\n",
      "merci d'ava ce si quelqu'u  a fait u e erreur  et il e  est vraime t é ervé.\n",
      "-----------\n",
      "Con excepción de ciertas personas remuneradas por la Fundación Wikimedia,[131]​ el resto, conocidos en la jerga de Wikipedia como wikipedistas, actúan siempre de manera gratuita y voluntaria.\n",
      "co  excepció  de ciertas perso as remu eradas por la fu dació  wikimedia [   ]​ el resto  co ocidos e  la jerga de wikipedia como wikipedistas  actúa  siempre de ma era gratuita y volu taria.\n",
      "-----------\n",
      "Журнал ориентирован на научных работников, однако в начале каждого издания публикуется краткое популярное изложение важнейших публикаций.\n",
      "журнал ориентирован на научных работников  однако в начале каждого издания публикуется краткое популярное изложение важнейших публикаций.\n",
      "-----------\n",
      "lad mig afslutte.\n",
      "lad mig afslutte.\n",
      "-----------\n",
      "yani biriyle tanışın ve zamanın nasıl gidiyor?\n",
      "ya i biriyle ta ışı  ve zama ı   asıl gidiyor \n",
      "-----------\n",
      "[28][29] استشهدت صحيفة وول ستريت جورنال بمجموعة من القواعد المطبقة على التحرير والنزاعات المتعلقة بمثل هذا المحتوى من بين أسباب هذا الاتجاه.\n",
      "[  ][  ] استشهدت صحيفة وول ستريت جورنال بمجموعة من القواعد المطبقة على التحرير والنزاعات المتعلقة بمثل هذا المحتوى من بين أسباب هذا الاتجاه.\n",
      "-----------\n"
     ]
    }
   ],
   "source": [
    "import re\n",
    "data_list = []\n",
    "for text in X:\n",
    "    text = re.sub(r'[!@#$(),n\"%^*?:;~`0-9]', ' ', text)\n",
    "    text = re.sub(r'[[]]', ' ', text)\n",
    "    text = text.lower()\n",
    "    data_list.append(text)\n",
    "for i in range(10):\n",
    "    print(X[1000*i])\n",
    "    print(data_list[1000*i])\n",
    "    print(\"-----------\")\n",
    "\n"
   ]
  },
  {
   "cell_type": "code",
   "execution_count": 25,
   "id": "5195e7af",
   "metadata": {},
   "outputs": [
    {
     "data": {
      "text/plain": [
       "(10337, 34937)"
      ]
     },
     "execution_count": 25,
     "metadata": {},
     "output_type": "execute_result"
    }
   ],
   "source": [
    "from sklearn.feature_extraction.text import CountVectorizer\n",
    "cv = CountVectorizer()\n",
    "X = cv.fit_transform(data_list).toarray()\n",
    "X.shape\n",
    "#print(cv.get_feature_names())"
   ]
  },
  {
   "cell_type": "code",
   "execution_count": 26,
   "id": "db5a3767",
   "metadata": {},
   "outputs": [
    {
     "data": {
      "text/plain": [
       "22029"
      ]
     },
     "execution_count": 26,
     "metadata": {},
     "output_type": "execute_result"
    }
   ],
   "source": [
    "import gc\n",
    "del data_list\n",
    "gc.collect()"
   ]
  },
  {
   "cell_type": "code",
   "execution_count": 27,
   "id": "62227baf",
   "metadata": {},
   "outputs": [],
   "source": [
    "from sklearn.model_selection import train_test_split\n",
    "import numpy as np\n",
    "y = y.astype(np.int8)\n",
    "X = X.astype(np.int16)\n",
    "x_train, x_test, y_train, y_test = train_test_split(X, y, test_size = 0.20)"
   ]
  },
  {
   "cell_type": "code",
   "execution_count": 28,
   "id": "d4627a9a",
   "metadata": {},
   "outputs": [
    {
     "data": {
      "text/plain": [
       "2068"
      ]
     },
     "execution_count": 28,
     "metadata": {},
     "output_type": "execute_result"
    }
   ],
   "source": [
    "len(x_train)\n",
    "len(x_test)"
   ]
  },
  {
   "cell_type": "code",
   "execution_count": 29,
   "id": "0c01f2e5",
   "metadata": {},
   "outputs": [
    {
     "data": {
      "text/plain": [
       "MultinomialNB()"
      ]
     },
     "execution_count": 29,
     "metadata": {},
     "output_type": "execute_result"
    }
   ],
   "source": [
    "from sklearn.naive_bayes import MultinomialNB\n",
    "model = MultinomialNB()\n",
    "model.fit(x_train, y_train)"
   ]
  },
  {
   "cell_type": "code",
   "execution_count": 30,
   "id": "9852e88d",
   "metadata": {},
   "outputs": [],
   "source": [
    "import pickle\n",
    "filename = 'language_detection_model.sav'\n",
    "pickle.dump(model, open(filename, 'wb'))"
   ]
  },
  {
   "cell_type": "code",
   "execution_count": 31,
   "id": "8c5b5eb7",
   "metadata": {},
   "outputs": [
    {
     "name": "stdout",
     "output_type": "stream",
     "text": [
      "97.48549323017409\n"
     ]
    },
    {
     "name": "stderr",
     "output_type": "stream",
     "text": [
      "C:\\Users\\souhm\\anaconda3\\lib\\site-packages\\ipykernel_launcher.py:9: DeprecationWarning: `np.float` is a deprecated alias for the builtin `float`. To silence this warning, use `float` by itself. Doing this will not modify any behavior and is safe. If you specifically wanted the numpy scalar type, use `np.float64` here.\n",
      "Deprecated in NumPy 1.20; for more details and guidance: https://numpy.org/devdocs/release/1.20.0-notes.html#deprecations\n",
      "  if __name__ == '__main__':\n"
     ]
    },
    {
     "data": {
      "image/png": "[encoded data removed]",
      "text/plain": [
       "<Figure size 1080x720 with 2 Axes>"
      ]
     },
     "metadata": {
      "needs_background": "light"
     },
     "output_type": "display_data"
    }
   ],
   "source": [
    "y_pred = model.predict(x_test)\n",
    "from sklearn.metrics import accuracy_score, confusion_matrix\n",
    "import numpy as np\n",
    "import matplotlib.pyplot as plt\n",
    "import seaborn as sns\n",
    "ac = 100*accuracy_score(y_test, y_pred)\n",
    "print(ac)\n",
    "cm = confusion_matrix(y_test, y_pred)\n",
    "cm=100*cm/ cm.astype(np.float).sum(axis=1)\n",
    "plt.figure(figsize=(15,10))\n",
    "sns.heatmap(cm, annot = True)\n",
    "plt.show()"
   ]
  },
  {
   "cell_type": "code",
   "execution_count": 33,
   "id": "fc5b3185",
   "metadata": {},
   "outputs": [],
   "source": [
    "def predict(text):\n",
    "    x = cv.transform([text]).toarray()\n",
    "    lang = model.predict(x)\n",
    "    lang = le.inverse_transform(lang)\n",
    "    print(\"The langauge is in\",lang[0])"
   ]
  },
  {
   "cell_type": "code",
   "execution_count": 35,
   "id": "e1416347",
   "metadata": {},
   "outputs": [
    {
     "name": "stdout",
     "output_type": "stream",
     "text": [
      "The langauge is in French\n",
      "The langauge is in English\n",
      "The langauge is in Turkish\n",
      "The langauge is in Arabic\n",
      "The langauge is in Spanish\n",
      "The langauge is in Malayalam\n",
      "The langauge is in Russian\n"
     ]
    }
   ],
   "source": [
    "predict(\"Est-ce que cet exercice vous a permis d'avoir un aperçu introductif au traitement naturel du langage ?\")\n",
    "predict(\"Did this exercise give you an introductory overview to natural language processing?\")\n",
    "predict(\"Bu alıştırma size doğal dil işlemeye giriş niteliğinde bir genel bakış sağladı mı?\")\n",
    "predict(\"هل أعطاك هذا التمرين نظرة عامة تمهيدية حول معالجة اللغة الطبيعية؟\")\n",
    "predict(\"¿Este ejercicio le brindó una introducción al procesamiento del lenguaje natural?\")\n",
    "predict(\"ഈവŖായാമംനിšൾŚ്സřാഭാവികഭാഷാ േŗപാസƋിംഗിŀെറഒരുആമുഖഅവേലാകനംനൽകിേയാ?\")\n",
    "predict(\"Это упражнение дало вам вводный обзор обработки естественного языка?\")"
   ]
  }
 ],
 "metadata": {
  "kernelspec": {
   "display_name": "Python 3",
   "language": "python",
   "name": "python3"
  },
  "language_info": {
   "codemirror_mode": {
    "name": "ipython",
    "version": 3
   },
   "file_extension": ".py",
   "mimetype": "text/x-python",
   "name": "python",
   "nbconvert_exporter": "python",
   "pygments_lexer": "ipython3",
   "version": "3.7.10"
  }
 },
 "nbformat": 4,
 "nbformat_minor": 5
}
